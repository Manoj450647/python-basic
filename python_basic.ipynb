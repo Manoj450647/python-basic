{
  "nbformat": 4,
  "nbformat_minor": 0,
  "metadata": {
    "colab": {
      "provenance": []
    },
    "kernelspec": {
      "name": "python3",
      "display_name": "Python 3"
    },
    "language_info": {
      "name": "python"
    }
  },
  "cells": [
    {
      "cell_type": "code",
      "execution_count": null,
      "metadata": {
        "id": "YwXlbGkbzKW0"
      },
      "outputs": [],
      "source": []
    },
    {
      "cell_type": "markdown",
      "source": [
        "python basic\n",
        "\n"
      ],
      "metadata": {
        "id": "YBcQgkn2z_AF"
      }
    },
    {
      "cell_type": "markdown",
      "source": [
        "1. what is python and why is it so popular?\n",
        "       python is high-level, interpreted programming language known for its simpilicity and readability .\n",
        "       popularity reason:\n",
        "\n",
        "       - easy"
      ],
      "metadata": {
        "id": "AX485oAq0IU8"
      }
    }
  ]
}